{
  "nbformat": 4,
  "nbformat_minor": 0,
  "metadata": {
    "colab": {
      "provenance": []
    },
    "kernelspec": {
      "name": "python3",
      "display_name": "Python 3"
    },
    "language_info": {
      "name": "python"
    }
  },
  "cells": [
    {
      "cell_type": "code",
      "execution_count": null,
      "metadata": {
        "id": "71lj-uFMjX_O"
      },
      "outputs": [],
      "source": [
        "import numpy as np"
      ]
    },
    {
      "cell_type": "markdown",
      "source": [
        "\n",
        "\n",
        "```\n",
        "numpy = numeric python ```\n",
        "\n"
      ],
      "metadata": {
        "id": "UZX-AcSPj-iu"
      }
    },
    {
      "cell_type": "code",
      "source": [
        "np1 = np.array([0,1,2,3,4,5,6,7,8,9])\n",
        "print(np1)\n",
        "np2 = np.arange(10)\n",
        "print(np2)\n",
        "np3 = np.arange(0,50, 5)\n",
        "print(np3)\n",
        "np4=np.zeros(50)\n",
        "print(np4)\n",
        "np5=np.zeros((2,10))\n",
        "print(np5)\n",
        "np6 = np.full((10),2)\n",
        "print(np6)\n",
        "np7 = np.full((10,2),6)\n",
        "print(np7)\n",
        "my_list = [1,2,3,4,5]\n",
        "np8= np.array(my_list)\n",
        "print(np8[2])\n"
      ],
      "metadata": {
        "colab": {
          "base_uri": "https://localhost:8080/"
        },
        "id": "f1vHventj_bO",
        "outputId": "53eb4617-29ad-43b8-ef98-ee24fa4af40d"
      },
      "execution_count": null,
      "outputs": [
        {
          "output_type": "stream",
          "name": "stdout",
          "text": [
            "[0 1 2 3 4 5 6 7 8 9]\n",
            "[0 1 2 3 4 5 6 7 8 9]\n",
            "[ 0  5 10 15 20 25 30 35 40 45]\n",
            "[0. 0. 0. 0. 0. 0. 0. 0. 0. 0. 0. 0. 0. 0. 0. 0. 0. 0. 0. 0. 0. 0. 0. 0.\n",
            " 0. 0. 0. 0. 0. 0. 0. 0. 0. 0. 0. 0. 0. 0. 0. 0. 0. 0. 0. 0. 0. 0. 0. 0.\n",
            " 0. 0.]\n",
            "[[0. 0. 0. 0. 0. 0. 0. 0. 0. 0.]\n",
            " [0. 0. 0. 0. 0. 0. 0. 0. 0. 0.]]\n",
            "[2 2 2 2 2 2 2 2 2 2]\n",
            "[[6 6]\n",
            " [6 6]\n",
            " [6 6]\n",
            " [6 6]\n",
            " [6 6]\n",
            " [6 6]\n",
            " [6 6]\n",
            " [6 6]\n",
            " [6 6]\n",
            " [6 6]]\n",
            "3\n"
          ]
        }
      ]
    },
    {
      "cell_type": "code",
      "source": [
        "np1 = np.array([1,2,3,4,5,6,7,8,9])\n",
        "print(np1[1:5])\n",
        "print(np1[3:])\n",
        "print(np1[-3:-1])\n",
        "print(np1[1:5:2]) # stepzss of 2\n",
        "print(np1[::2]) # stepzss of 2\n",
        "np2 = np.array([[1,2,3,4,5],[6,7,8,9,10]])\n",
        "print(np2[1,2])  # (row :column)\n",
        "print (np2[0:1,:3])"
      ],
      "metadata": {
        "colab": {
          "base_uri": "https://localhost:8080/"
        },
        "id": "b8pcWJicpSFj",
        "outputId": "b97d613d-993e-4e18-dfd3-118b63662300"
      },
      "execution_count": null,
      "outputs": [
        {
          "output_type": "stream",
          "name": "stdout",
          "text": [
            "[2 3 4 5]\n",
            "[4 5 6 7 8 9]\n",
            "[7 8]\n",
            "[2 4]\n",
            "[1 3 5 7 9]\n",
            "8\n",
            "[[1 2 3]]\n"
          ]
        }
      ]
    },
    {
      "cell_type": "code",
      "source": [
        "np1 = np.array([1,2,3,4,5,6,7,8,9])\n",
        "print(np1)\n",
        "print(np.sqrt(np1))\n",
        "print(np.absolute(np1))\n",
        "print(np.exp(np1))\n",
        "print(np.min(np1))\n",
        "print(np.max(np1))\n",
        "print(np.sign(np1))\n",
        "print(np.sin(np1))\n",
        "print(np.cos(np1))\n",
        "print(np.tan(np1))"
      ],
      "metadata": {
        "colab": {
          "base_uri": "https://localhost:8080/"
        },
        "id": "0Yog4Nn0pSH7",
        "outputId": "b1878432-f3d4-45e7-a361-7a15b715d28a"
      },
      "execution_count": null,
      "outputs": [
        {
          "output_type": "stream",
          "name": "stdout",
          "text": [
            "[1 2 3 4 5 6 7 8 9]\n",
            "[1.         1.41421356 1.73205081 2.         2.23606798 2.44948974\n",
            " 2.64575131 2.82842712 3.        ]\n",
            "[1 2 3 4 5 6 7 8 9]\n",
            "[2.71828183e+00 7.38905610e+00 2.00855369e+01 5.45981500e+01\n",
            " 1.48413159e+02 4.03428793e+02 1.09663316e+03 2.98095799e+03\n",
            " 8.10308393e+03]\n",
            "1\n",
            "9\n",
            "[1 1 1 1 1 1 1 1 1]\n",
            "[ 0.84147098  0.90929743  0.14112001 -0.7568025  -0.95892427 -0.2794155\n",
            "  0.6569866   0.98935825  0.41211849]\n",
            "[ 0.54030231 -0.41614684 -0.9899925  -0.65364362  0.28366219  0.96017029\n",
            "  0.75390225 -0.14550003 -0.91113026]\n",
            "[ 1.55740772 -2.18503986 -0.14254654  1.15782128 -3.38051501 -0.29100619\n",
            "  0.87144798 -6.79971146 -0.45231566]\n"
          ]
        }
      ]
    },
    {
      "cell_type": "code",
      "source": [
        "np1 = np.array([0,1,2,3,4,5])\n",
        "print(np1)\n",
        "np2=np1.view()\n",
        "print(np2)\n",
        "print(f'Original NP1 {np1}')\n",
        "print(f'Original NP2 {np2}')\n",
        "np1[0]=33\n",
        "print(f'changed NP1 {np1}')\n",
        "print(f'changed NP2 {np2}') # when we change in the array the view changes automatically\n"
      ],
      "metadata": {
        "colab": {
          "base_uri": "https://localhost:8080/"
        },
        "id": "p1tDP9rmpSKg",
        "outputId": "466702db-a76e-4c78-b01e-4add715f5b57"
      },
      "execution_count": null,
      "outputs": [
        {
          "output_type": "stream",
          "name": "stdout",
          "text": [
            "[0 1 2 3 4 5]\n",
            "[0 1 2 3 4 5]\n",
            "Original NP1 [0 1 2 3 4 5]\n",
            "Original NP2 [0 1 2 3 4 5]\n",
            "changed NP1 [33  1  2  3  4  5]\n",
            "changed NP2 [33  1  2  3  4  5]\n"
          ]
        }
      ]
    },
    {
      "cell_type": "code",
      "source": [
        "np1 = np.array([0,1,2,3,4,5])\n",
        "print(np1)\n",
        "np2=np1.copy()\n",
        "print(np2)\n",
        "print(f'Original NP1 {np1}')\n",
        "print(f'Original NP2 {np2}')\n",
        "np1[0]=33\n",
        "print(f'changed NP1 {np1}')\n",
        "print(f'changed NP2 {np2}') # when we change in the array the copy does not changes automatically"
      ],
      "metadata": {
        "colab": {
          "base_uri": "https://localhost:8080/"
        },
        "id": "qH1vGDrspSNK",
        "outputId": "06421a18-1fdf-4291-9d6f-8a0b98da1f55"
      },
      "execution_count": null,
      "outputs": [
        {
          "output_type": "stream",
          "name": "stdout",
          "text": [
            "[0 1 2 3 4 5]\n",
            "[0 1 2 3 4 5]\n",
            "Original NP1 [0 1 2 3 4 5]\n",
            "Original NP2 [0 1 2 3 4 5]\n",
            "changed NP1 [0 1 2 3 4 5]\n",
            "changed NP2 [33  1  2  3  4  5]\n"
          ]
        }
      ]
    },
    {
      "cell_type": "code",
      "source": [
        "np1 = np.array([1,2,3,4,5,6,7,8,9,10,11,12])\n",
        "print(np1)\n",
        "print(np1.shape)\n",
        "\n",
        "\n",
        "np2 = np.array([[1,2,3,4,5,6],[7,8,9,10,11,12]])\n",
        "print(np2)\n",
        "print(np2.shape)\n",
        "\n",
        "\n",
        "np3 = np1.reshape(3,4)\n",
        "print(np3)\n",
        "print(np3.shape)\n",
        "\n",
        "\n",
        "np4 = np1.reshape(2,3,2)\n",
        "print(np4)\n",
        "print(np4.shape)\n",
        "\n",
        "\n",
        "np5 = np4.reshape(-1)\n",
        "print(np5)\n",
        "print(np5.shape)\n",
        "\n"
      ],
      "metadata": {
        "colab": {
          "base_uri": "https://localhost:8080/"
        },
        "id": "U8ufv6LFpSP5",
        "outputId": "49b5fbce-3ebb-4dfc-9597-368bbfbf7e98"
      },
      "execution_count": null,
      "outputs": [
        {
          "output_type": "stream",
          "name": "stdout",
          "text": [
            "[ 1  2  3  4  5  6  7  8  9 10 11 12]\n",
            "(12,)\n",
            "[[ 1  2  3  4  5  6]\n",
            " [ 7  8  9 10 11 12]]\n",
            "(2, 6)\n",
            "[[ 1  2  3  4]\n",
            " [ 5  6  7  8]\n",
            " [ 9 10 11 12]]\n",
            "(3, 4)\n",
            "[[[ 1  2]\n",
            "  [ 3  4]\n",
            "  [ 5  6]]\n",
            "\n",
            " [[ 7  8]\n",
            "  [ 9 10]\n",
            "  [11 12]]]\n",
            "(2, 3, 2)\n",
            "[ 1  2  3  4  5  6  7  8  9 10 11 12]\n",
            "(12,)\n"
          ]
        }
      ]
    },
    {
      "cell_type": "code",
      "source": [
        "np1 = np.array([1,2,3,4,5,6,7,8,9,10])\n",
        "print(np1)\n",
        "for x in np1:\n",
        " print(x)\n",
        "\n",
        "\n",
        "\n",
        " np2 = np.array([[1,2,3,4,5],[6,7,8,9,10]])\n",
        "print(np2)\n",
        "for x in np2:\n",
        "  for y in x:\n",
        "    print(y)\n",
        "  #print rows\n",
        " #print(x)\n",
        "\n",
        "\n",
        "\n",
        "\n",
        "\n",
        " #use np.nditer()\n",
        "for x in np.nditer(np2):\n",
        "  print(x)"
      ],
      "metadata": {
        "colab": {
          "base_uri": "https://localhost:8080/"
        },
        "id": "6K7GE7YcpSTE",
        "outputId": "7f50591b-610a-4a8b-89f3-01d7ed3d016d"
      },
      "execution_count": null,
      "outputs": [
        {
          "output_type": "stream",
          "name": "stdout",
          "text": [
            "[ 1  2  3  4  5  6  7  8  9 10]\n",
            "1\n",
            "2\n",
            "3\n",
            "4\n",
            "5\n",
            "6\n",
            "7\n",
            "8\n",
            "9\n",
            "10\n",
            "[[ 1  2  3  4  5]\n",
            " [ 6  7  8  9 10]]\n",
            "1\n",
            "2\n",
            "3\n",
            "4\n",
            "5\n",
            "6\n",
            "7\n",
            "8\n",
            "9\n",
            "10\n",
            "1\n",
            "2\n",
            "3\n",
            "4\n",
            "5\n",
            "6\n",
            "7\n",
            "8\n",
            "9\n",
            "10\n"
          ]
        }
      ]
    },
    {
      "cell_type": "code",
      "source": [
        "np1 = np.array([6,7,4,9,0,2,1])\n",
        "print(np1)\n",
        "print(np.sort(np1))\n",
        "np1=np.sort(np1)\n",
        "print(np1)\n",
        "\n",
        "np2 = np.array([\"d\",\"a\",\"b\",\"c\"])\n",
        "print(np2)\n",
        "print(np.sort(np2))\n",
        "\n",
        "np4 = np.array([[6,7,1,9],[8,3,5,0]])\n",
        "print(np4)\n",
        "print(np.sort(np4))"
      ],
      "metadata": {
        "colab": {
          "base_uri": "https://localhost:8080/"
        },
        "id": "wY4tsl7FpSVu",
        "outputId": "9565061b-0ddf-466a-e58d-697c7fb0e5d6"
      },
      "execution_count": null,
      "outputs": [
        {
          "output_type": "stream",
          "name": "stdout",
          "text": [
            "[6 7 4 9 0 2 1]\n",
            "[0 1 2 4 6 7 9]\n",
            "[0 1 2 4 6 7 9]\n",
            "['d' 'a' 'b' 'c']\n",
            "['a' 'b' 'c' 'd']\n",
            "[[6 7 1 9]\n",
            " [8 3 5 0]]\n",
            "[[1 6 7 9]\n",
            " [0 3 5 8]]\n"
          ]
        }
      ]
    },
    {
      "cell_type": "code",
      "source": [
        "np1 = np.array([1,2,3,4,5,6,7,8,9,3,3,3,3])\n",
        "print(np1)\n",
        "x=np.where(np1==3)\n",
        "print(x)\n",
        "print(np1[x[0]])\n",
        "y=np.where(np1 % 2 == 0 )\n",
        "print(y)"
      ],
      "metadata": {
        "colab": {
          "base_uri": "https://localhost:8080/"
        },
        "id": "YzmknQH7pSYj",
        "outputId": "170fb336-d1f7-469b-a44d-46ad5acf34b3"
      },
      "execution_count": null,
      "outputs": [
        {
          "output_type": "stream",
          "name": "stdout",
          "text": [
            "[1 2 3 4 5 6 7 8 9 3 3 3 3]\n",
            "(array([ 2,  9, 10, 11, 12]),)\n",
            "[3 3 3 3 3]\n",
            "(array([1, 3, 5, 7]),)\n"
          ]
        }
      ]
    },
    {
      "cell_type": "code",
      "source": [
        "np1 = np.array([1,2,3,4,5,6,7,8,9,10])\n",
        "print(np1)\n",
        "x=[True,True,False,False,False,True,True,True,True,True,]\n",
        "print(np1[x])\n",
        "\n",
        "\n",
        "\n",
        "filtered=[]\n",
        "for thing in np1:\n",
        "  if thing % 2 == 0:\n",
        "    filtered.append(True)\n",
        "  else :\n",
        "    filtered.append(False)\n",
        "print(np1)\n",
        "print (filtered)\n",
        "new = np1[filtered]\n",
        "print(np1[filtered])\n",
        "\n",
        "\n",
        "\n",
        "\n",
        "\n",
        "filtered = np1 % 2 == 0\n",
        "print (filtered)\n",
        "new = np1[filtered]\n",
        "print(np1[filtered])\n"
      ],
      "metadata": {
        "colab": {
          "base_uri": "https://localhost:8080/"
        },
        "id": "k5Rr6T_ppSbF",
        "outputId": "38acf67c-5b75-4165-b4ed-1617a074e344"
      },
      "execution_count": null,
      "outputs": [
        {
          "output_type": "stream",
          "name": "stdout",
          "text": [
            "[ 1  2  3  4  5  6  7  8  9 10]\n",
            "[ 1  2  6  7  8  9 10]\n",
            "[ 1  2  3  4  5  6  7  8  9 10]\n",
            "[False, True, False, True, False, True, False, True, False, True]\n",
            "[ 2  4  6  8 10]\n",
            "[False  True False  True False  True False  True False  True]\n",
            "[ 2  4  6  8 10]\n"
          ]
        }
      ]
    },
    {
      "cell_type": "code",
      "source": [],
      "metadata": {
        "id": "qmJaHAEXpSds"
      },
      "execution_count": null,
      "outputs": []
    },
    {
      "cell_type": "code",
      "source": [],
      "metadata": {
        "id": "-gDwe9G3pSgb"
      },
      "execution_count": null,
      "outputs": []
    },
    {
      "cell_type": "markdown",
      "source": [],
      "metadata": {
        "id": "fORCCy1kj7sX"
      }
    }
  ]
}